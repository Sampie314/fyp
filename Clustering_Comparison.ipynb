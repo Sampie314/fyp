{
  "nbformat": 4,
  "nbformat_minor": 0,
  "metadata": {
    "colab": {
      "provenance": [],
      "toc_visible": true,
      "authorship_tag": "ABX9TyONGwRcUC4ydCxqoLk1uj1a",
      "include_colab_link": true
    },
    "kernelspec": {
      "name": "python3",
      "display_name": "Python 3"
    },
    "language_info": {
      "name": "python"
    }
  },
  "cells": [
    {
      "cell_type": "markdown",
      "metadata": {
        "id": "view-in-github",
        "colab_type": "text"
      },
      "source": [
        "<a href=\"https://colab.research.google.com/github/Sampie314/fyp/blob/main/Clustering_Comparison.ipynb\" target=\"_parent\"><img src=\"https://colab.research.google.com/assets/colab-badge.svg\" alt=\"Open In Colab\"/></a>"
      ]
    },
    {
      "cell_type": "markdown",
      "source": [
        "# Imports"
      ],
      "metadata": {
        "id": "hnA_KVuQB2Kl"
      }
    },
    {
      "cell_type": "code",
      "execution_count": 18,
      "metadata": {
        "colab": {
          "base_uri": "https://localhost:8080/"
        },
        "id": "EAM1-XRBBbhp",
        "outputId": "c25fb5cc-d9dd-4207-a4fe-bb11f803e2c8"
      },
      "outputs": [
        {
          "output_type": "stream",
          "name": "stdout",
          "text": [
            "Requirement already satisfied: aeon in /usr/local/lib/python3.10/dist-packages (0.9.0)\n",
            "Requirement already satisfied: deprecated>=1.2.13 in /usr/local/lib/python3.10/dist-packages (from aeon) (1.2.14)\n",
            "Requirement already satisfied: numba<0.60.0,>=0.55 in /usr/local/lib/python3.10/dist-packages (from aeon) (0.58.1)\n",
            "Requirement already satisfied: numpy<1.27.0,>=1.21.0 in /usr/local/lib/python3.10/dist-packages (from aeon) (1.25.2)\n",
            "Requirement already satisfied: packaging>=20.0 in /usr/local/lib/python3.10/dist-packages (from aeon) (24.0)\n",
            "Requirement already satisfied: pandas<2.1.0,>=1.5.3 in /usr/local/lib/python3.10/dist-packages (from aeon) (2.0.3)\n",
            "Requirement already satisfied: scikit-learn<1.5.0,>=1.0.0 in /usr/local/lib/python3.10/dist-packages (from aeon) (1.2.2)\n",
            "Requirement already satisfied: scipy<1.13.0,>=1.9.0 in /usr/local/lib/python3.10/dist-packages (from aeon) (1.11.4)\n",
            "Requirement already satisfied: typing-extensions>=4.6.0 in /usr/local/lib/python3.10/dist-packages (from aeon) (4.12.1)\n",
            "Requirement already satisfied: wrapt<2,>=1.10 in /usr/local/lib/python3.10/dist-packages (from deprecated>=1.2.13->aeon) (1.14.1)\n",
            "Requirement already satisfied: llvmlite<0.42,>=0.41.0dev0 in /usr/local/lib/python3.10/dist-packages (from numba<0.60.0,>=0.55->aeon) (0.41.1)\n",
            "Requirement already satisfied: python-dateutil>=2.8.2 in /usr/local/lib/python3.10/dist-packages (from pandas<2.1.0,>=1.5.3->aeon) (2.8.2)\n",
            "Requirement already satisfied: pytz>=2020.1 in /usr/local/lib/python3.10/dist-packages (from pandas<2.1.0,>=1.5.3->aeon) (2023.4)\n",
            "Requirement already satisfied: tzdata>=2022.1 in /usr/local/lib/python3.10/dist-packages (from pandas<2.1.0,>=1.5.3->aeon) (2024.1)\n",
            "Requirement already satisfied: joblib>=1.1.1 in /usr/local/lib/python3.10/dist-packages (from scikit-learn<1.5.0,>=1.0.0->aeon) (1.4.2)\n",
            "Requirement already satisfied: threadpoolctl>=2.0.0 in /usr/local/lib/python3.10/dist-packages (from scikit-learn<1.5.0,>=1.0.0->aeon) (3.5.0)\n",
            "Requirement already satisfied: six>=1.5 in /usr/local/lib/python3.10/dist-packages (from python-dateutil>=2.8.2->pandas<2.1.0,>=1.5.3->aeon) (1.16.0)\n"
          ]
        }
      ],
      "source": [
        "!pip install aeon"
      ]
    },
    {
      "cell_type": "code",
      "source": [
        "import pandas as pd\n",
        "import numpy as np\n",
        "import plotly.express as px\n",
        "import plotly.graph_objects as go\n",
        "from aeon.datasets import load_classification\n",
        "import torch\n",
        "import torch.nn as nn"
      ],
      "metadata": {
        "id": "08Uh2PUGMMn7"
      },
      "execution_count": null,
      "outputs": []
    },
    {
      "cell_type": "code",
      "source": [
        "from google.colab import drive\n",
        "drive.mount('/content/drive/')\n",
        "\n",
        "import sys\n",
        "sys.path.append('/content/drive/MyDrive/FYP')"
      ],
      "metadata": {
        "colab": {
          "base_uri": "https://localhost:8080/"
        },
        "id": "cRdB8AN2GP4i",
        "outputId": "3cef1a4b-5e35-42f9-aa9c-4033117a104c"
      },
      "execution_count": 12,
      "outputs": [
        {
          "output_type": "stream",
          "name": "stdout",
          "text": [
            "Drive already mounted at /content/drive/; to attempt to forcibly remount, call drive.mount(\"/content/drive/\", force_remount=True).\n"
          ]
        }
      ]
    },
    {
      "cell_type": "code",
      "source": [
        "import contrastive_loss"
      ],
      "metadata": {
        "id": "Gs1ZV1SQHQyT"
      },
      "execution_count": 15,
      "outputs": []
    },
    {
      "cell_type": "markdown",
      "source": [
        "# Load Benchmark Data"
      ],
      "metadata": {
        "id": "mQb-9ja6IPgj"
      }
    },
    {
      "cell_type": "markdown",
      "source": [
        "## Share Price Increase"
      ],
      "metadata": {
        "id": "tFovPU0zIRcP"
      }
    },
    {
      "cell_type": "code",
      "source": [
        "share_price_increase = load_classification('SharePriceIncrease')"
      ],
      "metadata": {
        "id": "Ocjlmv1bkZMz"
      },
      "execution_count": 13,
      "outputs": []
    },
    {
      "cell_type": "code",
      "source": [
        "print(len(share_price_increase))\n",
        "share_data, share_labels = share_price_increase"
      ],
      "metadata": {
        "colab": {
          "base_uri": "https://localhost:8080/"
        },
        "id": "WMclpZ7tm3Wx",
        "outputId": "4d21e3f3-e19f-45ee-98e4-ca05577c3dd8"
      },
      "execution_count": 17,
      "outputs": [
        {
          "output_type": "stream",
          "name": "stdout",
          "text": [
            "2\n"
          ]
        }
      ]
    },
    {
      "cell_type": "code",
      "source": [],
      "metadata": {
        "colab": {
          "base_uri": "https://localhost:8080/"
        },
        "id": "G9sCdkpQI4bh",
        "outputId": "9e78fca3-22ab-4ff3-d696-5f9a49d4d320"
      },
      "execution_count": 12,
      "outputs": [
        {
          "output_type": "execute_result",
          "data": {
            "text/plain": [
              "array([-4.14537643, -0.77014098,  2.00994691, -2.69215236,  2.04490865,\n",
              "       -0.43222242,  0.13812094, -0.72906193,  1.50853177,  2.73758612,\n",
              "        2.18880413, -1.17339778, -0.5654034 ,  1.02350442, -1.98873841,\n",
              "        0.42112825,  1.2390422 ,  0.35774548, -0.52532605,  2.26329829,\n",
              "        0.36886194,  0.8269033 ,  0.03645063,  1.09309946, -1.73004662,\n",
              "        0.40344989,  1.35160124,  1.02721153, -0.80271272,  0.2157866 ,\n",
              "        0.73568967,  0.8193785 ,  0.86572737, -0.12261288, -0.2104506 ,\n",
              "       -0.52724612,  0.17668249, -0.31746085,  1.57466274,  1.67218096,\n",
              "       -1.62754974,  0.90560863, -0.37969867, -0.01732872,  1.12632392,\n",
              "       -2.07333631,  1.29483437, -0.12091846,  1.07229148,  1.24914367,\n",
              "        0.08450744, -0.48970096,  0.03393935, -0.89907139,  1.07839967,\n",
              "       -0.3217589 , -0.30581091,  0.57941403,  0.64385135,  0.8754152 ])"
            ]
          },
          "metadata": {},
          "execution_count": 12
        }
      ]
    },
    {
      "cell_type": "markdown",
      "source": [
        "## Fashion MNIST"
      ],
      "metadata": {
        "id": "Z4LAPn08otY6"
      }
    },
    {
      "cell_type": "code",
      "source": [],
      "metadata": {
        "id": "vU67I0dBIkzK"
      },
      "execution_count": null,
      "outputs": []
    },
    {
      "cell_type": "markdown",
      "source": [
        "## Heterogeneity Human Activity Recognition (HHAR)"
      ],
      "metadata": {
        "id": "py8qWh_oIlC7"
      }
    },
    {
      "cell_type": "code",
      "source": [],
      "metadata": {
        "id": "E3ChJSueIqZF"
      },
      "execution_count": null,
      "outputs": []
    },
    {
      "cell_type": "markdown",
      "source": [
        "# Models"
      ],
      "metadata": {
        "id": "vOCRSJwRox3Y"
      }
    },
    {
      "cell_type": "code",
      "source": [],
      "metadata": {
        "id": "QjuTQ9eHov99"
      },
      "execution_count": null,
      "outputs": []
    }
  ]
}